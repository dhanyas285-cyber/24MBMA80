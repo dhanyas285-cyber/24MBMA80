{
 "cells": [
  {
   "cell_type": "code",
   "execution_count": 0,
   "metadata": {
    "application/vnd.databricks.v1+cell": {
     "cellMetadata": {
      "byteLimit": 2048000,
      "rowLimit": 10000
     },
     "inputWidgets": {},
     "nuid": "a7a8dc21-0c9e-4127-b8a3-df4927eab0ea",
     "showTitle": false,
     "tableResultSettingsMap": {},
     "title": ""
    }
   },
   "outputs": [
    {
     "output_type": "stream",
     "name": "stdout",
     "output_type": "stream",
     "text": [
      "+----------+-----------+-------------+------+---+-------------+--------+----------+----------+-------------+-----+------------+-------------------+------------+---------+\n|booking_id|customer_id|customer_name|gender|age|     locality|staff_id|staff_name|service_id| service_name|price|booking_date|   appointment_time|amount_spent|   status|\n+----------+-----------+-------------+------+---+-------------+--------+----------+----------+-------------+-----+------------+-------------------+------------+---------+\n|      B001|       C004|        Aarav|Female| 33|   Gachibowli|    T002|     Pooja|      S001|      Haircut|  400|  2025-09-03|2025-09-17 18:30:00|         400|Completed|\n|      B002|       C001|       Vivaan|  Male| 32| Secunderabad|    T005|     Meera|      S005|     Pedicure|  900|  2025-09-07|2025-09-17 20:30:00|         900|Completed|\n|      B003|       C015|        Rahul|Female| 18|   Gachibowli|    T006|    Suresh|      S003|      Massage| 1500|  2025-09-09|2025-09-17 11:00:00|        1500|Cancelled|\n|      B004|       C004|       Vivaan|Female| 24|     Madhapur|    T007|     Kavya|      S005|     Pedicure|  900|  2025-09-09|2025-09-17 09:30:00|         900|Completed|\n|      B005|       C013|       Vivaan|Female| 41| Secunderabad|    T002|     Pooja|      S001|      Haircut|  400|  2025-09-02|2025-09-17 19:00:00|         400|Cancelled|\n|      B006|       C003|       Ananya|  Male| 42|     Madhapur|    T004|     Pooja|      S003|      Massage| 1500|  2025-09-06|2025-09-17 14:30:00|        1500|Completed|\n|      B007|       C009|       Vivaan|  Male| 52|   Gachibowli|    T002|    Suresh|      S004|     Manicure|  800|  2025-09-09|2025-09-17 19:00:00|         800|Cancelled|\n|      B008|       C002|       Ananya|  Male| 38|   Kukatpally|    T003|     Meera|      S002|       Facial| 1200|  2025-09-11|2025-09-17 12:30:00|        1200|Cancelled|\n|      B009|       C015|         Diya|Female| 26|   Gachibowli|    T006|      Anil|      S005|     Pedicure|  900|  2025-09-09|2025-09-17 20:30:00|         900|Cancelled|\n|      B010|       C012|       Ananya|  Male| 50|   Kukatpally|    T001|     Arjun|      S001|      Haircut|  400|  2025-09-04|2025-09-17 11:00:00|         400|Cancelled|\n|      B011|       C020|       Vivaan|Female| 42| Secunderabad|    T004|      Anil|      S003|      Massage| 1500|  2025-09-01|2025-09-17 19:00:00|        1500|Cancelled|\n|      B012|       C011|       Vivaan|Female| 45|   Gachibowli|    T004|     Meera|      S006|Hair Coloring| 2500|  2025-09-09|2025-09-17 17:00:00|        2500|Completed|\n|      B013|       C010|         Neha|  Male| 27|     Madhapur|    T007|    Rajesh|      S005|     Pedicure|  900|  2025-09-17|2025-09-17 09:30:00|         900|Cancelled|\n|      B014|       C001|       Vivaan|Female| 37|   Gachibowli|    T001|    Rajesh|      S005|     Pedicure|  900|  2025-09-03|2025-09-17 10:30:00|         900|Completed|\n|      B015|       C018|         Diya|  Male| 48| Secunderabad|    T002|     Kavya|      S005|     Pedicure|  900|  2025-09-14|2025-09-17 12:00:00|         900|Cancelled|\n|      B016|       C013|         Riya|Female| 51|   Kukatpally|    T001|    Rajesh|      S002|       Facial| 1200|  2025-09-03|2025-09-17 14:00:00|        1200|Completed|\n|      B017|       C019|       Ananya|  Male| 22|Banjara Hills|    T002|     Meera|      S001|      Haircut|  400|  2025-09-11|2025-09-17 10:00:00|         400|Cancelled|\n|      B018|       C016|       Ananya|  Male| 54| Secunderabad|    T004|    Rajesh|      S004|     Manicure|  800|  2025-09-14|2025-09-17 12:00:00|         800|Completed|\n|      B019|       C014|         Riya|Female| 44|   Kukatpally|    T007|     Pooja|      S001|      Haircut|  400|  2025-09-04|2025-09-17 09:30:00|         400|Cancelled|\n|      B020|       C004|       Ananya|  Male| 30| Secunderabad|    T004|    Rajesh|      S004|     Manicure|  800|  2025-09-06|2025-09-17 13:30:00|         800|Completed|\n|      B021|       C003|        Aditi|  Male| 21| Secunderabad|    T007|     Meera|      S001|      Haircut|  400|  2025-09-08|2025-09-17 11:30:00|         400|Cancelled|\n|      B022|       C016|       Ananya|Female| 21|   Gachibowli|    T004|     Meera|      S004|     Manicure|  800|  2025-09-09|2025-09-17 16:30:00|         800|Cancelled|\n|      B023|       C018|        Aditi|  Male| 30|     Madhapur|    T002|     Meera|      S005|     Pedicure|  900|  2025-09-02|2025-09-17 20:30:00|         900|Completed|\n|      B024|       C002|        Rahul|Female| 50| Secunderabad|    T002|     Meera|      S005|     Pedicure|  900|  2025-09-03|2025-09-17 11:00:00|         900|Completed|\n|      B025|       C008|        Kabir|  Male| 54|   Gachibowli|    T005|      Anil|      S001|      Haircut|  400|  2025-09-03|2025-09-17 15:30:00|         400|Cancelled|\n|      B026|       C007|         Riya|  Male| 34|   Kukatpally|    T002|     Pooja|      S006|Hair Coloring| 2500|  2025-09-10|2025-09-17 16:30:00|        2500|Completed|\n|      B027|       C001|        Aditi|  Male| 22| Secunderabad|    T002|      Anil|      S003|      Massage| 1500|  2025-09-05|2025-09-17 14:00:00|        1500|Completed|\n|      B028|       C012|       Ishaan|  Male| 46| Secunderabad|    T006|     Kavya|      S005|     Pedicure|  900|  2025-09-17|2025-09-17 09:30:00|         900|Completed|\n|      B029|       C005|       Ishaan|  Male| 24| Secunderabad|    T002|     Kavya|      S003|      Massage| 1500|  2025-09-07|2025-09-17 20:30:00|        1500|Completed|\n|      B030|       C009|         Neha|Female| 34|Banjara Hills|    T001|     Pooja|      S004|     Manicure|  800|  2025-09-09|2025-09-17 09:00:00|         800|Cancelled|\n|      B031|       C005|       Ishaan|  Male| 46| Secunderabad|    T006|    Suresh|      S005|     Pedicure|  900|  2025-09-01|2025-09-17 10:00:00|         900|Completed|\n|      B032|       C018|        Aarav|Female| 55| Secunderabad|    T002|    Suresh|      S002|       Facial| 1200|  2025-09-02|2025-09-17 13:30:00|        1200|Completed|\n|      B033|       C012|       Ananya|  Male| 24|     Madhapur|    T007|      Anil|      S004|     Manicure|  800|  2025-09-05|2025-09-17 12:00:00|         800|Completed|\n|      B034|       C014|        Aarav|  Male| 39|   Kukatpally|    T007|     Pooja|      S006|Hair Coloring| 2500|  2025-09-08|2025-09-17 13:00:00|        2500|Completed|\n|      B035|       C013|        Aarav|Female| 32|   Gachibowli|    T007|    Suresh|      S003|      Massage| 1500|  2025-09-10|2025-09-17 12:00:00|        1500|Completed|\n|      B036|       C007|        Kabir|Female| 35|Banjara Hills|    T007|     Kavya|      S003|      Massage| 1500|  2025-09-17|2025-09-17 15:30:00|        1500|Completed|\n|      B037|       C004|       Ishaan|  Male| 55|     Madhapur|    T001|     Meera|      S005|     Pedicure|  900|  2025-09-14|2025-09-17 14:30:00|         900|Cancelled|\n|      B038|       C020|         Neha|  Male| 42| Secunderabad|    T002|     Kavya|      S001|      Haircut|  400|  2025-09-14|2025-09-17 09:00:00|         400|Cancelled|\n|      B039|       C014|       Vivaan|Female| 38|Banjara Hills|    T006|     Kavya|      S005|     Pedicure|  900|  2025-09-10|2025-09-17 19:30:00|         900|Cancelled|\n|      B040|       C013|       Ishaan|  Male| 30|   Kukatpally|    T006|    Suresh|      S006|Hair Coloring| 2500|  2025-09-06|2025-09-17 18:30:00|        2500|Cancelled|\n|      B041|       C018|        Aarav|Female| 36|   Gachibowli|    T004|     Arjun|      S005|     Pedicure|  900|  2025-09-11|2025-09-17 16:30:00|         900|Cancelled|\n|      B042|       C007|         Neha|Female| 28|Banjara Hills|    T003|      Anil|      S006|Hair Coloring| 2500|  2025-09-11|2025-09-17 10:00:00|        2500|Cancelled|\n|      B043|       C008|       Ananya|  Male| 19|Banjara Hills|    T002|    Suresh|      S005|     Pedicure|  900|  2025-09-03|2025-09-17 16:30:00|         900|Completed|\n|      B044|       C013|        Aditi|Female| 33|   Gachibowli|    T006|     Pooja|      S001|      Haircut|  400|  2025-09-04|2025-09-17 15:00:00|         400|Completed|\n|      B045|       C017|        Aditi|  Male| 53|   Gachibowli|    T007|     Meera|      S004|     Manicure|  800|  2025-09-05|2025-09-17 16:30:00|         800|Cancelled|\n|      B046|       C020|         Neha|Female| 53|   Kukatpally|    T002|     Pooja|      S004|     Manicure|  800|  2025-09-15|2025-09-17 13:00:00|         800|Cancelled|\n|      B047|       C017|        Aditi|  Male| 35|   Kukatpally|    T001|     Pooja|      S003|      Massage| 1500|  2025-09-08|2025-09-17 13:30:00|        1500|Cancelled|\n|      B048|       C018|       Vivaan|  Male| 27|   Gachibowli|    T004|     Pooja|      S002|       Facial| 1200|  2025-09-07|2025-09-17 10:30:00|        1200|Cancelled|\n|      B049|       C011|         Neha|Female| 44|Banjara Hills|    T002|     Arjun|      S004|     Manicure|  800|  2025-09-13|2025-09-17 18:00:00|         800|Cancelled|\n|      B050|       C016|        Aarav|Female| 37|   Kukatpally|    T007|     Arjun|      S004|     Manicure|  800|  2025-09-08|2025-09-17 16:00:00|         800|Cancelled|\n|      B051|       C014|        Aditi|  Male| 42|     Madhapur|    T006|     Pooja|      S004|     Manicure|  800|  2025-09-06|2025-09-17 16:00:00|         800|Completed|\n|      B052|       C013|        Rahul|  Male| 23|   Kukatpally|    T002|     Arjun|      S004|     Manicure|  800|  2025-09-06|2025-09-17 09:30:00|         800|Cancelled|\n|      B053|       C011|       Ananya|Female| 38|     Madhapur|    T007|    Suresh|      S003|      Massage| 1500|  2025-09-14|2025-09-17 13:00:00|        1500|Cancelled|\n|      B054|       C001|         Neha|  Male| 40|   Gachibowli|    T006|     Meera|      S006|Hair Coloring| 2500|  2025-09-02|2025-09-17 09:00:00|        2500|Completed|\n|      B055|       C001|        Rahul|  Male| 33|   Gachibowli|    T004|     Pooja|      S001|      Haircut|  400|  2025-09-07|2025-09-17 16:30:00|         400|Cancelled|\n|      B056|       C006|        Rahul|  Male| 28|     Madhapur|    T001|      Anil|      S001|      Haircut|  400|  2025-09-10|2025-09-17 18:30:00|         400|Cancelled|\n|      B057|       C007|       Vivaan|  Male| 24|     Madhapur|    T007|     Pooja|      S005|     Pedicure|  900|  2025-09-04|2025-09-17 18:00:00|         900|Cancelled|\n|      B058|       C018|        Kabir|Female| 22| Secunderabad|    T006|     Kavya|      S001|      Haircut|  400|  2025-09-14|2025-09-17 16:00:00|         400|Cancelled|\n|      B059|       C012|        Aditi|  Male| 45|   Gachibowli|    T006|      Anil|      S006|Hair Coloring| 2500|  2025-09-09|2025-09-17 18:30:00|        2500|Cancelled|\n|      B060|       C014|        Rahul|Female| 38|   Gachibowli|    T007|     Meera|      S003|      Massage| 1500|  2025-09-15|2025-09-17 12:30:00|        1500|Cancelled|\n|      B061|       C011|        Aarav|Female| 38|   Gachibowli|    T004|    Rajesh|      S003|      Massage| 1500|  2025-09-09|2025-09-17 14:30:00|        1500|Cancelled|\n|      B062|       C018|        Aarav|  Male| 23|   Gachibowli|    T006|    Suresh|      S004|     Manicure|  800|  2025-09-08|2025-09-17 20:30:00|         800|Cancelled|\n|      B063|       C015|        Aarav|  Male| 36|   Gachibowli|    T004|     Pooja|      S002|       Facial| 1200|  2025-09-10|2025-09-17 19:30:00|        1200|Cancelled|\n|      B064|       C018|         Neha|Female| 45| Secunderabad|    T003|     Kavya|      S006|Hair Coloring| 2500|  2025-09-15|2025-09-17 13:30:00|        2500|Cancelled|\n|      B065|       C008|       Vivaan|  Male| 38|Banjara Hills|    T006|      Anil|      S006|Hair Coloring| 2500|  2025-09-06|2025-09-17 12:00:00|        2500|Cancelled|\n|      B066|       C009|        Rahul|Female| 24|   Gachibowli|    T003|    Rajesh|      S003|      Massage| 1500|  2025-09-06|2025-09-17 13:00:00|        1500|Completed|\n|      B067|       C009|        Aarav|  Male| 53|     Madhapur|    T006|    Rajesh|      S006|Hair Coloring| 2500|  2025-09-16|2025-09-17 10:00:00|        2500|Cancelled|\n|      B068|       C016|        Aditi|Female| 39|   Gachibowli|    T001|     Kavya|      S004|     Manicure|  800|  2025-09-04|2025-09-17 10:30:00|         800|Cancelled|\n|      B069|       C003|        Rahul|  Male| 27|   Gachibowli|    T007|      Anil|      S003|      Massage| 1500|  2025-09-03|2025-09-17 12:00:00|        1500|Cancelled|\n|      B070|       C020|        Rahul|  Male| 51|   Kukatpally|    T004|    Suresh|      S003|      Massage| 1500|  2025-09-14|2025-09-17 13:00:00|        1500|Completed|\n|      B071|       C007|       Ananya|Female| 23|   Gachibowli|    T002|    Rajesh|      S005|     Pedicure|  900|  2025-09-03|2025-09-17 11:00:00|         900|Cancelled|\n|      B072|       C015|        Rahul|Female| 36|Banjara Hills|    T002|     Kavya|      S006|Hair Coloring| 2500|  2025-09-10|2025-09-17 20:30:00|        2500|Completed|\n|      B073|       C008|       Ishaan|  Male| 45|Banjara Hills|    T005|    Rajesh|      S006|Hair Coloring| 2500|  2025-09-05|2025-09-17 13:00:00|        2500|Completed|\n|      B074|       C002|         Diya|Female| 54|     Madhapur|    T004|     Meera|      S004|     Manicure|  800|  2025-09-10|2025-09-17 20:30:00|         800|Cancelled|\n|      B075|       C017|         Neha|Female| 46|Banjara Hills|    T005|     Meera|      S004|     Manicure|  800|  2025-09-11|2025-09-17 18:30:00|         800|Completed|\n|      B076|       C003|       Ananya|  Male| 35| Secunderabad|    T001|     Arjun|      S002|       Facial| 1200|  2025-09-16|2025-09-17 17:30:00|        1200|Cancelled|\n|      B077|       C006|        Rahul|Female| 49|Banjara Hills|    T004|     Kavya|      S004|     Manicure|  800|  2025-09-11|2025-09-17 14:00:00|         800|Completed|\n|      B078|       C011|        Kabir|Female| 36|   Kukatpally|    T007|     Arjun|      S005|     Pedicure|  900|  2025-09-02|2025-09-17 16:00:00|         900|Cancelled|\n|      B079|       C009|         Riya|  Male| 43| Secunderabad|    T007|     Meera|      S006|Hair Coloring| 2500|  2025-09-15|2025-09-17 15:00:00|        2500|Completed|\n|      B080|       C017|         Riya|Female| 46|Banjara Hills|    T002|     Kavya|      S005|     Pedicure|  900|  2025-09-05|2025-09-17 13:30:00|         900|Cancelled|\n|      B081|       C004|        Aarav|  Male| 28|     Madhapur|    T005|     Meera|      S005|     Pedicure|  900|  2025-09-14|2025-09-17 10:00:00|         900|Completed|\n|      B082|       C015|       Vivaan|  Male| 49|     Madhapur|    T005|     Pooja|      S003|      Massage| 1500|  2025-09-14|2025-09-17 16:30:00|        1500|Completed|\n|      B083|       C015|         Neha|  Male| 42|   Gachibowli|    T005|      Anil|      S006|Hair Coloring| 2500|  2025-09-05|2025-09-17 10:30:00|        2500|Cancelled|\n|      B084|       C011|         Neha|Female| 18|     Madhapur|    T006|     Kavya|      S005|     Pedicure|  900|  2025-09-16|2025-09-17 11:30:00|         900|Cancelled|\n|      B085|       C012|         Riya|Female| 47|     Madhapur|    T007|    Rajesh|      S006|Hair Coloring| 2500|  2025-09-08|2025-09-17 18:30:00|        2500|Completed|\n|      B086|       C014|        Aarav|Female| 48|   Kukatpally|    T004|     Pooja|      S006|Hair Coloring| 2500|  2025-09-05|2025-09-17 16:00:00|        2500|Completed|\n|      B087|       C017|        Rahul|Female| 24|   Kukatpally|    T001|      Anil|      S004|     Manicure|  800|  2025-09-01|2025-09-17 20:00:00|         800|Cancelled|\n|      B088|       C005|       Vivaan|Female| 34|     Madhapur|    T005|     Pooja|      S004|     Manicure|  800|  2025-09-03|2025-09-17 14:30:00|         800|Cancelled|\n|      B089|       C016|         Neha|  Male| 22|   Gachibowli|    T006|     Pooja|      S003|      Massage| 1500|  2025-09-08|2025-09-17 20:00:00|        1500|Cancelled|\n|      B090|       C004|       Vivaan|Female| 28|     Madhapur|    T001|     Meera|      S003|      Massage| 1500|  2025-09-02|2025-09-17 13:30:00|        1500|Cancelled|\n|      B091|       C014|         Diya|  Male| 51|   Kukatpally|    T005|     Pooja|      S002|       Facial| 1200|  2025-09-06|2025-09-17 11:00:00|        1200|Cancelled|\n|      B092|       C020|       Ananya|Female| 55|   Gachibowli|    T002|    Suresh|      S006|Hair Coloring| 2500|  2025-09-09|2025-09-17 16:30:00|        2500|Completed|\n|      B093|       C015|       Ishaan|  Male| 22|   Kukatpally|    T003|      Anil|      S003|      Massage| 1500|  2025-09-14|2025-09-17 20:30:00|        1500|Cancelled|\n|      B094|       C010|       Ananya|Female| 48|Banjara Hills|    T002|    Suresh|      S005|     Pedicure|  900|  2025-09-12|2025-09-17 18:30:00|         900|Cancelled|\n|      B095|       C001|        Kabir|Female| 18| Secunderabad|    T007|     Pooja|      S006|Hair Coloring| 2500|  2025-09-02|2025-09-17 18:30:00|        2500|Cancelled|\n|      B096|       C008|        Rahul|Female| 32|   Gachibowli|    T005|     Kavya|      S006|Hair Coloring| 2500|  2025-09-05|2025-09-17 19:00:00|        2500|Completed|\n|      B097|       C010|        Aditi|  Male| 55|     Madhapur|    T006|    Rajesh|      S001|      Haircut|  400|  2025-09-10|2025-09-17 14:30:00|         400|Completed|\n|      B098|       C007|         Diya|Female| 51| Secunderabad|    T003|     Arjun|      S002|       Facial| 1200|  2025-09-09|2025-09-17 16:30:00|        1200|Cancelled|\n|      B099|       C004|        Aditi|  Male| 27|   Gachibowli|    T007|     Pooja|      S006|Hair Coloring| 2500|  2025-09-13|2025-09-17 17:30:00|        2500|Completed|\n|      B100|       C013|        Aarav|Female| 52|Banjara Hills|    T004|     Kavya|      S006|Hair Coloring| 2500|  2025-09-09|2025-09-17 18:30:00|        2500|Cancelled|\n+----------+-----------+-------------+------+---+-------------+--------+----------+----------+-------------+-----+------------+-------------------+------------+---------+\n\nroot\n |-- booking_id: string (nullable = true)\n |-- customer_id: string (nullable = true)\n |-- customer_name: string (nullable = true)\n |-- gender: string (nullable = true)\n |-- age: integer (nullable = true)\n |-- locality: string (nullable = true)\n |-- staff_id: string (nullable = true)\n |-- staff_name: string (nullable = true)\n |-- service_id: string (nullable = true)\n |-- service_name: string (nullable = true)\n |-- price: integer (nullable = true)\n |-- booking_date: date (nullable = true)\n |-- appointment_time: timestamp (nullable = true)\n |-- amount_spent: integer (nullable = true)\n |-- status: string (nullable = true)\n\n"
     ]
    },
    {
     "output_type": "display_data",
     "data": {
      "text/html": [
       "<style scoped>\n",
       "  .table-result-container {\n",
       "    max-height: 300px;\n",
       "    overflow: auto;\n",
       "  }\n",
       "  table, th, td {\n",
       "    border: 1px solid black;\n",
       "    border-collapse: collapse;\n",
       "  }\n",
       "  th, td {\n",
       "    padding: 5px;\n",
       "  }\n",
       "  th {\n",
       "    text-align: left;\n",
       "  }\n",
       "</style><div class='table-result-container'><table class='table-result'><thead style='background-color: white'><tr><th>booking_hour</th><th>total_bookings</th></tr></thead><tbody><tr><td>16</td><td>14</td></tr><tr><td>13</td><td>12</td></tr><tr><td>18</td><td>11</td></tr><tr><td>20</td><td>10</td></tr><tr><td>10</td><td>9</td></tr><tr><td>9</td><td>8</td></tr><tr><td>14</td><td>8</td></tr><tr><td>12</td><td>8</td></tr><tr><td>11</td><td>7</td></tr><tr><td>19</td><td>6</td></tr><tr><td>15</td><td>4</td></tr><tr><td>17</td><td>3</td></tr></tbody></table></div>"
      ]
     },
     "metadata": {
      "application/vnd.databricks.v1+output": {
       "addedWidgets": {},
       "aggData": [],
       "aggError": "",
       "aggOverflow": false,
       "aggSchema": [],
       "aggSeriesLimitReached": false,
       "aggType": "",
       "arguments": {},
       "columnCustomDisplayInfos": {},
       "data": [
        [
         16,
         14
        ],
        [
         13,
         12
        ],
        [
         18,
         11
        ],
        [
         20,
         10
        ],
        [
         10,
         9
        ],
        [
         9,
         8
        ],
        [
         14,
         8
        ],
        [
         12,
         8
        ],
        [
         11,
         7
        ],
        [
         19,
         6
        ],
        [
         15,
         4
        ],
        [
         17,
         3
        ]
       ],
       "datasetInfos": [],
       "dbfsResultPath": null,
       "isJsonSchema": true,
       "metadata": {},
       "overflow": false,
       "plotOptions": {
        "customPlotOptions": {},
        "displayType": "table",
        "pivotAggregation": null,
        "pivotColumns": null,
        "xColumns": null,
        "yColumns": null
       },
       "removedWidgets": [],
       "schema": [
        {
         "metadata": "{}",
         "name": "booking_hour",
         "type": "\"integer\""
        },
        {
         "metadata": "{}",
         "name": "total_bookings",
         "type": "\"long\""
        }
       ],
       "type": "table"
      }
     },
     "output_type": "display_data"
    }
   ],
   "source": [
    "# Load CSV from your given path\n",
    "df = spark.read.csv(\"/Volumes/workspace/default/practice_sales/salon_spa_bookings.csv\", \n",
    "                    header=True, inferSchema=True)\n",
    "\n",
    "# Show first 100 rows\n",
    "df.show(100)\n",
    "\n",
    "# Print schema to confirm data types\n",
    "df.printSchema()\n",
    "display(result_df)\n"
   ]
  },
  {
   "cell_type": "code",
   "execution_count": 0,
   "metadata": {
    "application/vnd.databricks.v1+cell": {
     "cellMetadata": {
      "byteLimit": 2048000,
      "rowLimit": 10000
     },
     "inputWidgets": {},
     "nuid": "3e103ffb-1d6f-4837-992b-e49c3b6f10a5",
     "showTitle": false,
     "tableResultSettingsMap": {},
     "title": ""
    }
   },
   "outputs": [
    {
     "output_type": "stream",
     "name": "stdout",
     "output_type": "stream",
     "text": [
      "+-------------+-------------+\n| service_name|total_revenue|\n+-------------+-------------+\n|     Pedicure|        18900|\n|Hair Coloring|        52500|\n|       Facial|         9600|\n|     Manicure|        15200|\n|      Haircut|         5200|\n|      Massage|        27000|\n+-------------+-------------+\n\n"
     ]
    },
    {
     "output_type": "display_data",
     "data": {
      "text/html": [
       "<style scoped>\n",
       "  .table-result-container {\n",
       "    max-height: 300px;\n",
       "    overflow: auto;\n",
       "  }\n",
       "  table, th, td {\n",
       "    border: 1px solid black;\n",
       "    border-collapse: collapse;\n",
       "  }\n",
       "  th, td {\n",
       "    padding: 5px;\n",
       "  }\n",
       "  th {\n",
       "    text-align: left;\n",
       "  }\n",
       "</style><div class='table-result-container'><table class='table-result'><thead style='background-color: white'><tr><th>booking_hour</th><th>total_bookings</th></tr></thead><tbody><tr><td>16</td><td>14</td></tr><tr><td>13</td><td>12</td></tr><tr><td>18</td><td>11</td></tr><tr><td>20</td><td>10</td></tr><tr><td>10</td><td>9</td></tr><tr><td>9</td><td>8</td></tr><tr><td>14</td><td>8</td></tr><tr><td>12</td><td>8</td></tr><tr><td>11</td><td>7</td></tr><tr><td>19</td><td>6</td></tr><tr><td>15</td><td>4</td></tr><tr><td>17</td><td>3</td></tr></tbody></table></div>"
      ]
     },
     "metadata": {
      "application/vnd.databricks.v1+output": {
       "addedWidgets": {},
       "aggData": [],
       "aggError": "",
       "aggOverflow": false,
       "aggSchema": [],
       "aggSeriesLimitReached": false,
       "aggType": "",
       "arguments": {},
       "columnCustomDisplayInfos": {},
       "data": [
        [
         16,
         14
        ],
        [
         13,
         12
        ],
        [
         18,
         11
        ],
        [
         20,
         10
        ],
        [
         10,
         9
        ],
        [
         9,
         8
        ],
        [
         14,
         8
        ],
        [
         12,
         8
        ],
        [
         11,
         7
        ],
        [
         19,
         6
        ],
        [
         15,
         4
        ],
        [
         17,
         3
        ]
       ],
       "datasetInfos": [],
       "dbfsResultPath": null,
       "isJsonSchema": true,
       "metadata": {},
       "overflow": false,
       "plotOptions": {
        "customPlotOptions": {},
        "displayType": "table",
        "pivotAggregation": null,
        "pivotColumns": null,
        "xColumns": null,
        "yColumns": null
       },
       "removedWidgets": [],
       "schema": [
        {
         "metadata": "{}",
         "name": "booking_hour",
         "type": "\"integer\""
        },
        {
         "metadata": "{}",
         "name": "total_bookings",
         "type": "\"long\""
        }
       ],
       "type": "table"
      }
     },
     "output_type": "display_data"
    },
    {
     "output_type": "display_data",
     "data": {
      "text/plain": [
       "Databricks visualization. Run in Databricks to view."
      ]
     },
     "metadata": {
      "application/vnd.databricks.v1.subcommand+json": {
       "baseErrorDetails": null,
       "bindings": {},
       "collapsed": false,
       "command": "%python\n__backend_agg_display_orig = display\n__backend_agg_dfs = []\ndef __backend_agg_display_new(df):\n    __backend_agg_df_modules = [\"pandas.core.frame\", \"databricks.koalas.frame\", \"pyspark.sql.dataframe\", \"pyspark.pandas.frame\", \"pyspark.sql.connect.dataframe\"]\n    if (type(df).__module__ in __backend_agg_df_modules and type(df).__name__ == 'DataFrame') or isinstance(df, list):\n        __backend_agg_dfs.append(df)\n\ndisplay = __backend_agg_display_new\n\ndef __backend_agg_user_code_fn():\n    import base64\n    exec(base64.standard_b64decode(\"ZnJvbSBweXNwYXJrLnNxbC5mdW5jdGlvbnMgaW1wb3J0IHN1bQojVG90YWwgcmV2ZW51ZSBwZXIgc2VydmljZQpkZi5ncm91cEJ5KCJzZXJ2aWNlX25hbWUiKS5hZ2coc3VtKCJhbW91bnRfc3BlbnQiKS5hbGlhcygidG90YWxfcmV2ZW51ZSIpKS5zaG93KCkKZGlzcGxheShyZXN1bHRfZGYpCg==\").decode())\n\ntry:\n    # run user code\n    __backend_agg_user_code_fn()\n\n    #reset display function\n    display = __backend_agg_display_orig\n\n    if len(__backend_agg_dfs) > 0:\n        # create a temp view\n        if type(__backend_agg_dfs[0]).__module__ == \"databricks.koalas.frame\":\n            # koalas dataframe\n            __backend_agg_dfs[0].to_spark().createOrReplaceTempView(\"DatabricksView8f1856e\")\n        elif type(__backend_agg_dfs[0]).__module__ == \"pandas.core.frame\" or isinstance(__backend_agg_dfs[0], list):\n            # pandas dataframe\n            spark.createDataFrame(__backend_agg_dfs[0]).createOrReplaceTempView(\"DatabricksView8f1856e\")\n        else:\n            __backend_agg_dfs[0].createOrReplaceTempView(\"DatabricksView8f1856e\")\n        #run backend agg\n        display(spark.sql(\"\"\"WITH q AS (select * from DatabricksView8f1856e) SELECT `booking_hour`,SUM(`total_bookings`) `column_60acc314110` FROM q GROUP BY `booking_hour`\"\"\"))\n    else:\n        displayHTML(\"dataframe no longer exists. If you're using dataframe.display(), use display(dataframe) instead.\")\n\n\nfinally:\n    spark.sql(\"drop view if exists DatabricksView8f1856e\")\n    display = __backend_agg_display_orig\n    del __backend_agg_display_new\n    del __backend_agg_display_orig\n    del __backend_agg_dfs\n    del __backend_agg_user_code_fn\n\n",
       "commandTitle": "Visualization 1",
       "commandType": "auto",
       "commandVersion": 0,
       "commentThread": [],
       "commentsVisible": false,
       "contentSha256Hex": null,
       "customPlotOptions": {
        "redashChart": [
         {
          "key": "type",
          "value": "CHART"
         },
         {
          "key": "options",
          "value": {
           "alignYAxesAtZero": true,
           "coefficient": 1,
           "columnConfigurationMap": {
            "x": {
             "column": "booking_hour",
             "id": "column_60acc314109"
            },
            "y": [
             {
              "column": "total_bookings",
              "id": "column_60acc314110",
              "transform": "SUM"
             }
            ]
           },
           "dateTimeFormat": "DD/MM/YYYY HH:mm",
           "direction": {
            "type": "counterclockwise"
           },
           "error_y": {
            "type": "data",
            "visible": true
           },
           "globalSeriesType": "line",
           "isAggregationOn": true,
           "legend": {
            "traceorder": "normal"
           },
           "missingValuesAsZero": true,
           "numberFormat": "0,0.[00000]",
           "percentFormat": "0[.]00%",
           "series": {
            "error_y": {
             "type": "data",
             "visible": true
            },
            "stacking": null
           },
           "seriesOptions": {
            "column_60acc314110": {
             "name": "total_bookings",
             "type": "line",
             "yAxis": 0
            }
           },
           "showDataLabels": false,
           "sizemode": "diameter",
           "sortX": true,
           "sortY": true,
           "swappedAxes": false,
           "textFormat": "",
           "useAggregationsUi": true,
           "valuesOptions": {},
           "version": 2,
           "xAxis": {
            "labels": {
             "enabled": true
            },
            "type": "-"
           },
           "yAxis": [
            {
             "type": "-"
            },
            {
             "opposite": true,
             "type": "-"
            }
           ]
          }
         }
        ]
       },
       "datasetPreviewNameToCmdIdMap": {},
       "diffDeletes": [],
       "diffInserts": [],
       "displayType": "redashChart",
       "error": null,
       "errorDetails": null,
       "errorSummary": null,
       "errorTraceType": null,
       "finishTime": 0,
       "globalVars": {},
       "guid": "",
       "height": "auto",
       "hideCommandCode": false,
       "hideCommandResult": false,
       "iPythonMetadata": null,
       "inputWidgets": {},
       "isLockedInExamMode": false,
       "latestAssumeRoleInfo": null,
       "latestUser": "a user",
       "latestUserId": null,
       "listResultMetadata": null,
       "metadata": {},
       "nuid": "89764156-2e06-4406-b394-aea1906647ce",
       "origId": 0,
       "parentHierarchy": [],
       "pivotAggregation": null,
       "pivotColumns": null,
       "position": 3.0,
       "resultDbfsErrorMessage": null,
       "resultDbfsStatus": "INLINED_IN_TREE",
       "results": null,
       "showCommandTitle": false,
       "startTime": 0,
       "state": "input",
       "streamStates": {},
       "subcommandOptions": {
        "queryPlan": {
         "groups": [
          {
           "column": "booking_hour",
           "type": "column"
          }
         ],
         "selects": [
          {
           "column": "booking_hour",
           "type": "column"
          },
          {
           "alias": "column_60acc314110",
           "args": [
            {
             "column": "total_bookings",
             "type": "column"
            }
           ],
           "function": "SUM",
           "type": "function"
          }
         ]
        }
       },
       "submitTime": 0,
       "subtype": "tableResultSubCmd.visualization",
       "tableResultIndex": 0,
       "tableResultSettingsMap": {},
       "useConsistentColors": false,
       "version": "CommandV1",
       "width": "auto",
       "workflows": [],
       "xColumns": null,
       "yColumns": null
      }
     },
     "output_type": "display_data"
    }
   ],
   "source": [
    "from pyspark.sql.functions import sum\n",
    "#Total revenue per service\n",
    "df.groupBy(\"service_name\").agg(sum(\"amount_spent\").alias(\"total_revenue\")).show()\n",
    "display(result_df)\n"
   ]
  },
  {
   "cell_type": "code",
   "execution_count": 0,
   "metadata": {
    "application/vnd.databricks.v1+cell": {
     "cellMetadata": {
      "byteLimit": 2048000,
      "rowLimit": 10000
     },
     "inputWidgets": {},
     "nuid": "8ab2f19b-f147-465d-a5db-7a5f18ff2828",
     "showTitle": false,
     "tableResultSettingsMap": {},
     "title": ""
    }
   },
   "outputs": [
    {
     "output_type": "stream",
     "name": "stdout",
     "output_type": "stream",
     "text": [
      "+-----------+-------------+---------+\n|customer_id|customer_name|avg_spent|\n+-----------+-------------+---------+\n|       C015|        Rahul|   2000.0|\n|       C007|        Kabir|   1500.0|\n|       C012|        Aditi|   2500.0|\n|       C016|         Neha|   1500.0|\n|       C017|        Aditi|   1150.0|\n|       C013|        Aarav|   2000.0|\n|       C012|       Ishaan|    900.0|\n|       C013|        Rahul|    800.0|\n|       C012|       Ananya|    600.0|\n|       C001|         Neha|   2500.0|\n|       C013|       Vivaan|    400.0|\n|       C007|         Neha|   2500.0|\n|       C011|       Ananya|   1500.0|\n|       C018|        Kabir|    400.0|\n|       C013|       Ishaan|   2500.0|\n|       C013|         Riya|   1200.0|\n|       C010|       Ananya|    900.0|\n|       C020|        Rahul|   1500.0|\n|       C013|        Aditi|    400.0|\n|       C008|       Vivaan|   2500.0|\n+-----------+-------------+---------+\nonly showing top 20 rows\n"
     ]
    },
    {
     "output_type": "display_data",
     "data": {
      "text/html": [
       "<style scoped>\n",
       "  .table-result-container {\n",
       "    max-height: 300px;\n",
       "    overflow: auto;\n",
       "  }\n",
       "  table, th, td {\n",
       "    border: 1px solid black;\n",
       "    border-collapse: collapse;\n",
       "  }\n",
       "  th, td {\n",
       "    padding: 5px;\n",
       "  }\n",
       "  th {\n",
       "    text-align: left;\n",
       "  }\n",
       "</style><div class='table-result-container'><table class='table-result'><thead style='background-color: white'><tr><th>booking_hour</th><th>total_bookings</th></tr></thead><tbody><tr><td>16</td><td>14</td></tr><tr><td>13</td><td>12</td></tr><tr><td>18</td><td>11</td></tr><tr><td>20</td><td>10</td></tr><tr><td>10</td><td>9</td></tr><tr><td>9</td><td>8</td></tr><tr><td>14</td><td>8</td></tr><tr><td>12</td><td>8</td></tr><tr><td>11</td><td>7</td></tr><tr><td>19</td><td>6</td></tr><tr><td>15</td><td>4</td></tr><tr><td>17</td><td>3</td></tr></tbody></table></div>"
      ]
     },
     "metadata": {
      "application/vnd.databricks.v1+output": {
       "addedWidgets": {},
       "aggData": [],
       "aggError": "",
       "aggOverflow": false,
       "aggSchema": [],
       "aggSeriesLimitReached": false,
       "aggType": "",
       "arguments": {},
       "columnCustomDisplayInfos": {},
       "data": [
        [
         16,
         14
        ],
        [
         13,
         12
        ],
        [
         18,
         11
        ],
        [
         20,
         10
        ],
        [
         10,
         9
        ],
        [
         9,
         8
        ],
        [
         14,
         8
        ],
        [
         12,
         8
        ],
        [
         11,
         7
        ],
        [
         19,
         6
        ],
        [
         15,
         4
        ],
        [
         17,
         3
        ]
       ],
       "datasetInfos": [],
       "dbfsResultPath": null,
       "isJsonSchema": true,
       "metadata": {},
       "overflow": false,
       "plotOptions": {
        "customPlotOptions": {},
        "displayType": "table",
        "pivotAggregation": null,
        "pivotColumns": null,
        "xColumns": null,
        "yColumns": null
       },
       "removedWidgets": [],
       "schema": [
        {
         "metadata": "{}",
         "name": "booking_hour",
         "type": "\"integer\""
        },
        {
         "metadata": "{}",
         "name": "total_bookings",
         "type": "\"long\""
        }
       ],
       "type": "table"
      }
     },
     "output_type": "display_data"
    },
    {
     "output_type": "display_data",
     "data": {
      "text/plain": [
       "Databricks visualization. Run in Databricks to view."
      ]
     },
     "metadata": {
      "application/vnd.databricks.v1.subcommand+json": {
       "baseErrorDetails": null,
       "bindings": {},
       "collapsed": false,
       "command": "%python\n__backend_agg_display_orig = display\n__backend_agg_dfs = []\ndef __backend_agg_display_new(df):\n    __backend_agg_df_modules = [\"pandas.core.frame\", \"databricks.koalas.frame\", \"pyspark.sql.dataframe\", \"pyspark.pandas.frame\", \"pyspark.sql.connect.dataframe\"]\n    if (type(df).__module__ in __backend_agg_df_modules and type(df).__name__ == 'DataFrame') or isinstance(df, list):\n        __backend_agg_dfs.append(df)\n\ndisplay = __backend_agg_display_new\n\ndef __backend_agg_user_code_fn():\n    import base64\n    exec(base64.standard_b64decode(\"ZnJvbSBweXNwYXJrLnNxbC5mdW5jdGlvbnMgaW1wb3J0IGF2ZwojQXZlcmFnZSBzcGVuZCBwZXIgY3VzdG9tZXIKZGYuZ3JvdXBCeSgiY3VzdG9tZXJfaWQiLCAiY3VzdG9tZXJfbmFtZSIpLmFnZyhhdmcoImFtb3VudF9zcGVudCIpLmFsaWFzKCJhdmdfc3BlbnQiKSkuc2hvdygpCmRpc3BsYXkocmVzdWx0X2RmKQo=\").decode())\n\ntry:\n    # run user code\n    __backend_agg_user_code_fn()\n\n    #reset display function\n    display = __backend_agg_display_orig\n\n    if len(__backend_agg_dfs) > 0:\n        # create a temp view\n        if type(__backend_agg_dfs[0]).__module__ == \"databricks.koalas.frame\":\n            # koalas dataframe\n            __backend_agg_dfs[0].to_spark().createOrReplaceTempView(\"DatabricksView38a7e6d\")\n        elif type(__backend_agg_dfs[0]).__module__ == \"pandas.core.frame\" or isinstance(__backend_agg_dfs[0], list):\n            # pandas dataframe\n            spark.createDataFrame(__backend_agg_dfs[0]).createOrReplaceTempView(\"DatabricksView38a7e6d\")\n        else:\n            __backend_agg_dfs[0].createOrReplaceTempView(\"DatabricksView38a7e6d\")\n        #run backend agg\n        display(spark.sql(\"\"\"WITH q AS (select * from DatabricksView38a7e6d) SELECT `booking_hour`,SUM(`total_bookings`) `column_60acc314107` FROM q GROUP BY `booking_hour`\"\"\"))\n    else:\n        displayHTML(\"dataframe no longer exists. If you're using dataframe.display(), use display(dataframe) instead.\")\n\n\nfinally:\n    spark.sql(\"drop view if exists DatabricksView38a7e6d\")\n    display = __backend_agg_display_orig\n    del __backend_agg_display_new\n    del __backend_agg_display_orig\n    del __backend_agg_dfs\n    del __backend_agg_user_code_fn\n\n",
       "commandTitle": "Visualization 1",
       "commandType": "auto",
       "commandVersion": 0,
       "commentThread": [],
       "commentsVisible": false,
       "contentSha256Hex": null,
       "customPlotOptions": {
        "redashChart": [
         {
          "key": "type",
          "value": "CHART"
         },
         {
          "key": "options",
          "value": {
           "alignYAxesAtZero": true,
           "coefficient": 1,
           "columnConfigurationMap": {
            "x": {
             "column": "booking_hour",
             "id": "column_60acc314106"
            },
            "y": [
             {
              "column": "total_bookings",
              "id": "column_60acc314107",
              "transform": "SUM"
             }
            ]
           },
           "dateTimeFormat": "DD/MM/YYYY HH:mm",
           "direction": {
            "type": "counterclockwise"
           },
           "error_y": {
            "type": "data",
            "visible": true
           },
           "globalSeriesType": "column",
           "isAggregationOn": true,
           "legend": {
            "traceorder": "normal"
           },
           "missingValuesAsZero": true,
           "numberFormat": "0,0.[00000]",
           "percentFormat": "0[.]00%",
           "series": {
            "error_y": {
             "type": "data",
             "visible": true
            },
            "stacking": null
           },
           "seriesOptions": {
            "column_60acc314107": {
             "name": "total_bookings",
             "type": "column",
             "yAxis": 0
            }
           },
           "showDataLabels": false,
           "sizemode": "diameter",
           "sortX": true,
           "sortY": true,
           "swappedAxes": false,
           "textFormat": "",
           "useAggregationsUi": true,
           "valuesOptions": {},
           "version": 2,
           "xAxis": {
            "labels": {
             "enabled": true
            },
            "type": "-"
           },
           "yAxis": [
            {
             "type": "-"
            },
            {
             "opposite": true,
             "type": "-"
            }
           ]
          }
         }
        ]
       },
       "datasetPreviewNameToCmdIdMap": {},
       "diffDeletes": [],
       "diffInserts": [],
       "displayType": "redashChart",
       "error": null,
       "errorDetails": null,
       "errorSummary": null,
       "errorTraceType": null,
       "finishTime": 0,
       "globalVars": {},
       "guid": "",
       "height": "auto",
       "hideCommandCode": false,
       "hideCommandResult": false,
       "iPythonMetadata": null,
       "inputWidgets": {},
       "isLockedInExamMode": false,
       "latestAssumeRoleInfo": null,
       "latestUser": "a user",
       "latestUserId": null,
       "listResultMetadata": null,
       "metadata": {},
       "nuid": "54696384-9849-49b2-a4f6-fa3e6cd89e7d",
       "origId": 0,
       "parentHierarchy": [],
       "pivotAggregation": null,
       "pivotColumns": null,
       "position": 4.0,
       "resultDbfsErrorMessage": null,
       "resultDbfsStatus": "INLINED_IN_TREE",
       "results": null,
       "showCommandTitle": false,
       "startTime": 0,
       "state": "input",
       "streamStates": {},
       "subcommandOptions": {
        "queryPlan": {
         "groups": [
          {
           "column": "booking_hour",
           "type": "column"
          }
         ],
         "selects": [
          {
           "column": "booking_hour",
           "type": "column"
          },
          {
           "alias": "column_60acc314107",
           "args": [
            {
             "column": "total_bookings",
             "type": "column"
            }
           ],
           "function": "SUM",
           "type": "function"
          }
         ]
        }
       },
       "submitTime": 0,
       "subtype": "tableResultSubCmd.visualization",
       "tableResultIndex": 0,
       "tableResultSettingsMap": {},
       "useConsistentColors": false,
       "version": "CommandV1",
       "width": "auto",
       "workflows": [],
       "xColumns": null,
       "yColumns": null
      }
     },
     "output_type": "display_data"
    }
   ],
   "source": [
    "from pyspark.sql.functions import avg\n",
    "#Average spend per customer\n",
    "df.groupBy(\"customer_id\", \"customer_name\").agg(avg(\"amount_spent\").alias(\"avg_spent\")).show()\n",
    "display(result_df)\n"
   ]
  },
  {
   "cell_type": "code",
   "execution_count": 0,
   "metadata": {
    "application/vnd.databricks.v1+cell": {
     "cellMetadata": {
      "byteLimit": 2048000,
      "implicitDf": true,
      "rowLimit": 10000
     },
     "inputWidgets": {},
     "nuid": "822d6dbd-3f1f-462d-964e-db4d0d331d5b",
     "showTitle": false,
     "tableResultSettingsMap": {},
     "title": ""
    }
   },
   "outputs": [
    {
     "output_type": "stream",
     "name": "stdout",
     "output_type": "stream",
     "text": [
      "+-------------+--------------+\n| service_name|total_bookings|\n+-------------+--------------+\n|     Pedicure|            21|\n|Hair Coloring|            21|\n|     Manicure|            19|\n|      Massage|            18|\n|      Haircut|            13|\n|       Facial|             8|\n+-------------+--------------+\n\n"
     ]
    },
    {
     "output_type": "display_data",
     "data": {
      "text/html": [
       "<style scoped>\n",
       "  .table-result-container {\n",
       "    max-height: 300px;\n",
       "    overflow: auto;\n",
       "  }\n",
       "  table, th, td {\n",
       "    border: 1px solid black;\n",
       "    border-collapse: collapse;\n",
       "  }\n",
       "  th, td {\n",
       "    padding: 5px;\n",
       "  }\n",
       "  th {\n",
       "    text-align: left;\n",
       "  }\n",
       "</style><div class='table-result-container'><table class='table-result'><thead style='background-color: white'><tr><th>booking_hour</th><th>total_bookings</th></tr></thead><tbody><tr><td>16</td><td>14</td></tr><tr><td>13</td><td>12</td></tr><tr><td>18</td><td>11</td></tr><tr><td>20</td><td>10</td></tr><tr><td>10</td><td>9</td></tr><tr><td>9</td><td>8</td></tr><tr><td>14</td><td>8</td></tr><tr><td>12</td><td>8</td></tr><tr><td>11</td><td>7</td></tr><tr><td>19</td><td>6</td></tr><tr><td>15</td><td>4</td></tr><tr><td>17</td><td>3</td></tr></tbody></table></div>"
      ]
     },
     "metadata": {
      "application/vnd.databricks.v1+output": {
       "addedWidgets": {},
       "aggData": [],
       "aggError": "",
       "aggOverflow": false,
       "aggSchema": [],
       "aggSeriesLimitReached": false,
       "aggType": "",
       "arguments": {},
       "columnCustomDisplayInfos": {},
       "data": [
        [
         16,
         14
        ],
        [
         13,
         12
        ],
        [
         18,
         11
        ],
        [
         20,
         10
        ],
        [
         10,
         9
        ],
        [
         9,
         8
        ],
        [
         14,
         8
        ],
        [
         12,
         8
        ],
        [
         11,
         7
        ],
        [
         19,
         6
        ],
        [
         15,
         4
        ],
        [
         17,
         3
        ]
       ],
       "datasetInfos": [],
       "dbfsResultPath": null,
       "isJsonSchema": true,
       "metadata": {},
       "overflow": false,
       "plotOptions": {
        "customPlotOptions": {},
        "displayType": "table",
        "pivotAggregation": null,
        "pivotColumns": null,
        "xColumns": null,
        "yColumns": null
       },
       "removedWidgets": [],
       "schema": [
        {
         "metadata": "{}",
         "name": "booking_hour",
         "type": "\"integer\""
        },
        {
         "metadata": "{}",
         "name": "total_bookings",
         "type": "\"long\""
        }
       ],
       "type": "table"
      }
     },
     "output_type": "display_data"
    },
    {
     "output_type": "display_data",
     "data": {
      "text/plain": [
       "Databricks visualization. Run in Databricks to view."
      ]
     },
     "metadata": {
      "application/vnd.databricks.v1.subcommand+json": {
       "baseErrorDetails": null,
       "bindings": {},
       "collapsed": false,
       "command": "%python\n__backend_agg_display_orig = display\n__backend_agg_dfs = []\ndef __backend_agg_display_new(df):\n    __backend_agg_df_modules = [\"pandas.core.frame\", \"databricks.koalas.frame\", \"pyspark.sql.dataframe\", \"pyspark.pandas.frame\", \"pyspark.sql.connect.dataframe\"]\n    if (type(df).__module__ in __backend_agg_df_modules and type(df).__name__ == 'DataFrame') or isinstance(df, list):\n        __backend_agg_dfs.append(df)\n\ndisplay = __backend_agg_display_new\n\ndef __backend_agg_user_code_fn():\n    import base64\n    exec(base64.standard_b64decode(\"IyBSZWdpc3RlciBhcyB0ZW1wIHRhYmxlCmRmLmNyZWF0ZU9yUmVwbGFjZVRlbXBWaWV3KCJzYWxvbiIpCiNtb3N0IGZyZXF1ZW50bHkgYm9va2VkIHNlcnZpY2VzCiMgUnVuIFNRTCBxdWVyeQpyZXN1bHQgPSBzcGFyay5zcWwoIiIiCiAgICBTRUxFQ1Qgc2VydmljZV9uYW1lLCBDT1VOVCgqKSBhcyB0b3RhbF9ib29raW5ncwogICAgRlJPTSBzYWxvbgogICAgR1JPVVAgQlkgc2VydmljZV9uYW1lCiAgICBPUkRFUiBCWSB0b3RhbF9ib29raW5ncyBERVNDCiIiIikKCnJlc3VsdC5zaG93KCkKZGlzcGxheShyZXN1bHRfZGYpCgo=\").decode())\n\ntry:\n    # run user code\n    __backend_agg_user_code_fn()\n\n    #reset display function\n    display = __backend_agg_display_orig\n\n    if len(__backend_agg_dfs) > 0:\n        # create a temp view\n        if type(__backend_agg_dfs[0]).__module__ == \"databricks.koalas.frame\":\n            # koalas dataframe\n            __backend_agg_dfs[0].to_spark().createOrReplaceTempView(\"DatabricksViewc00c37e\")\n        elif type(__backend_agg_dfs[0]).__module__ == \"pandas.core.frame\" or isinstance(__backend_agg_dfs[0], list):\n            # pandas dataframe\n            spark.createDataFrame(__backend_agg_dfs[0]).createOrReplaceTempView(\"DatabricksViewc00c37e\")\n        else:\n            __backend_agg_dfs[0].createOrReplaceTempView(\"DatabricksViewc00c37e\")\n        #run backend agg\n        display(spark.sql(\"\"\"WITH q AS (select * from DatabricksViewc00c37e) SELECT `booking_hour`,`total_bookings` FROM q\"\"\"))\n    else:\n        displayHTML(\"dataframe no longer exists. If you're using dataframe.display(), use display(dataframe) instead.\")\n\n\nfinally:\n    spark.sql(\"drop view if exists DatabricksViewc00c37e\")\n    display = __backend_agg_display_orig\n    del __backend_agg_display_new\n    del __backend_agg_display_orig\n    del __backend_agg_dfs\n    del __backend_agg_user_code_fn\n\n",
       "commandTitle": "Visualization 1",
       "commandType": "auto",
       "commandVersion": 0,
       "commentThread": [],
       "commentsVisible": false,
       "contentSha256Hex": null,
       "customPlotOptions": {
        "redashChart": [
         {
          "key": "type",
          "value": "CHART"
         },
         {
          "key": "options",
          "value": {
           "alignYAxesAtZero": true,
           "coefficient": 1,
           "columnConfigurationMap": {
            "x": {
             "column": "booking_hour",
             "id": "column_60acc314104"
            },
            "y": [
             {
              "column": "total_bookings",
              "id": "column_60acc314105"
             }
            ]
           },
           "dateTimeFormat": "DD/MM/YYYY HH:mm",
           "direction": {
            "type": "counterclockwise"
           },
           "error_y": {
            "type": "data",
            "visible": true
           },
           "globalSeriesType": "scatter",
           "legend": {
            "traceorder": "normal"
           },
           "missingValuesAsZero": true,
           "numberFormat": "0,0.[00000]",
           "percentFormat": "0[.]00%",
           "series": {
            "error_y": {
             "type": "data",
             "visible": true
            },
            "stacking": null
           },
           "seriesOptions": {
            "column_60acc314105": {
             "name": "total_bookings",
             "yAxis": 0
            }
           },
           "showDataLabels": false,
           "sizemode": "diameter",
           "sortX": true,
           "sortY": true,
           "swappedAxes": false,
           "textFormat": "",
           "useAggregationsUi": true,
           "valuesOptions": {},
           "version": 2,
           "xAxis": {
            "labels": {
             "enabled": true
            },
            "type": "-"
           },
           "yAxis": [
            {
             "type": "-"
            },
            {
             "opposite": true,
             "type": "-"
            }
           ]
          }
         }
        ]
       },
       "datasetPreviewNameToCmdIdMap": {},
       "diffDeletes": [],
       "diffInserts": [],
       "displayType": "redashChart",
       "error": null,
       "errorDetails": null,
       "errorSummary": null,
       "errorTraceType": null,
       "finishTime": 0,
       "globalVars": {},
       "guid": "",
       "height": "auto",
       "hideCommandCode": false,
       "hideCommandResult": false,
       "iPythonMetadata": null,
       "inputWidgets": {},
       "isLockedInExamMode": false,
       "latestAssumeRoleInfo": null,
       "latestUser": "a user",
       "latestUserId": null,
       "listResultMetadata": null,
       "metadata": {},
       "nuid": "22d38c3f-2b7c-423a-8f9a-c78bd990020e",
       "origId": 0,
       "parentHierarchy": [],
       "pivotAggregation": null,
       "pivotColumns": null,
       "position": 5.0,
       "resultDbfsErrorMessage": null,
       "resultDbfsStatus": "INLINED_IN_TREE",
       "results": null,
       "showCommandTitle": false,
       "startTime": 0,
       "state": "input",
       "streamStates": {},
       "subcommandOptions": {
        "queryPlan": {
         "selects": [
          {
           "column": "booking_hour",
           "type": "column"
          },
          {
           "column": "total_bookings",
           "type": "column"
          }
         ]
        }
       },
       "submitTime": 0,
       "subtype": "tableResultSubCmd.visualization",
       "tableResultIndex": 0,
       "tableResultSettingsMap": {},
       "useConsistentColors": false,
       "version": "CommandV1",
       "width": "auto",
       "workflows": [],
       "xColumns": null,
       "yColumns": null
      }
     },
     "output_type": "display_data"
    }
   ],
   "source": [
    "# Register as temp table\n",
    "df.createOrReplaceTempView(\"salon\")\n",
    "#most frequently booked services\n",
    "# Run SQL query\n",
    "result = spark.sql(\"\"\"\n",
    "    SELECT service_name, COUNT(*) as total_bookings\n",
    "    FROM salon\n",
    "    GROUP BY service_name\n",
    "    ORDER BY total_bookings DESC\n",
    "\"\"\")\n",
    "\n",
    "result.show()\n",
    "display(result_df)\n",
    "\n"
   ]
  },
  {
   "cell_type": "code",
   "execution_count": 0,
   "metadata": {
    "application/vnd.databricks.v1+cell": {
     "cellMetadata": {
      "byteLimit": 2048000,
      "rowLimit": 10000
     },
     "inputWidgets": {},
     "nuid": "94071e6b-d522-4bb9-b8f9-df9a10d1a4ae",
     "showTitle": false,
     "tableResultSettingsMap": {},
     "title": ""
    }
   },
   "outputs": [
    {
     "output_type": "display_data",
     "data": {
      "text/html": [
       "<style scoped>\n",
       "  .table-result-container {\n",
       "    max-height: 300px;\n",
       "    overflow: auto;\n",
       "  }\n",
       "  table, th, td {\n",
       "    border: 1px solid black;\n",
       "    border-collapse: collapse;\n",
       "  }\n",
       "  th, td {\n",
       "    padding: 5px;\n",
       "  }\n",
       "  th {\n",
       "    text-align: left;\n",
       "  }\n",
       "</style><div class='table-result-container'><table class='table-result'><thead style='background-color: white'><tr><th>booking_hour</th><th>total_bookings</th></tr></thead><tbody><tr><td>16</td><td>14</td></tr><tr><td>13</td><td>12</td></tr><tr><td>18</td><td>11</td></tr><tr><td>20</td><td>10</td></tr><tr><td>10</td><td>9</td></tr><tr><td>9</td><td>8</td></tr><tr><td>14</td><td>8</td></tr><tr><td>12</td><td>8</td></tr><tr><td>11</td><td>7</td></tr><tr><td>19</td><td>6</td></tr><tr><td>15</td><td>4</td></tr><tr><td>17</td><td>3</td></tr></tbody></table></div>"
      ]
     },
     "metadata": {
      "application/vnd.databricks.v1+output": {
       "addedWidgets": {},
       "aggData": [],
       "aggError": "",
       "aggOverflow": false,
       "aggSchema": [],
       "aggSeriesLimitReached": false,
       "aggType": "",
       "arguments": {},
       "columnCustomDisplayInfos": {},
       "data": [
        [
         16,
         14
        ],
        [
         13,
         12
        ],
        [
         18,
         11
        ],
        [
         20,
         10
        ],
        [
         10,
         9
        ],
        [
         9,
         8
        ],
        [
         14,
         8
        ],
        [
         12,
         8
        ],
        [
         11,
         7
        ],
        [
         19,
         6
        ],
        [
         15,
         4
        ],
        [
         17,
         3
        ]
       ],
       "datasetInfos": [],
       "dbfsResultPath": null,
       "isJsonSchema": true,
       "metadata": {},
       "overflow": false,
       "plotOptions": {
        "customPlotOptions": {},
        "displayType": "table",
        "pivotAggregation": null,
        "pivotColumns": null,
        "xColumns": null,
        "yColumns": null
       },
       "removedWidgets": [],
       "schema": [
        {
         "metadata": "{}",
         "name": "booking_hour",
         "type": "\"integer\""
        },
        {
         "metadata": "{}",
         "name": "total_bookings",
         "type": "\"long\""
        }
       ],
       "type": "table"
      }
     },
     "output_type": "display_data"
    },
    {
     "output_type": "display_data",
     "data": {
      "text/plain": [
       "Databricks visualization. Run in Databricks to view."
      ]
     },
     "metadata": {
      "application/vnd.databricks.v1.subcommand+json": {
       "baseErrorDetails": null,
       "bindings": {},
       "collapsed": false,
       "command": "%python\n__backend_agg_display_orig = display\n__backend_agg_dfs = []\ndef __backend_agg_display_new(df):\n    __backend_agg_df_modules = [\"pandas.core.frame\", \"databricks.koalas.frame\", \"pyspark.sql.dataframe\", \"pyspark.pandas.frame\", \"pyspark.sql.connect.dataframe\"]\n    if (type(df).__module__ in __backend_agg_df_modules and type(df).__name__ == 'DataFrame') or isinstance(df, list):\n        __backend_agg_dfs.append(df)\n\ndisplay = __backend_agg_display_new\n\ndef __backend_agg_user_code_fn():\n    import base64\n    exec(base64.standard_b64decode(\"I1BlYWsgYm9va2luZyBob3Vycwpmcm9tIHB5c3Bhcmsuc3FsLmZ1bmN0aW9ucyBpbXBvcnQgdG9fdGltZXN0YW1wLCBob3VyLCBjb3VudAoKZGYyID0gZGYud2l0aENvbHVtbigKICAiYm9va2luZ19ob3VyIiwgCiAgaG91cih0b190aW1lc3RhbXAoImFwcG9pbnRtZW50X3RpbWUiLCAiSEg6bW0iKSkKKQoKcmVzdWx0X2RmID0gZGYyLmdyb3VwQnkoImJvb2tpbmdfaG91ciIpLmFnZygKICBjb3VudCgiKiIpLmFsaWFzKCJ0b3RhbF9ib29raW5ncyIpCikub3JkZXJCeSgidG90YWxfYm9va2luZ3MiLCBhc2NlbmRpbmc9RmFsc2UpCgpkaXNwbGF5KHJlc3VsdF9kZikKCg==\").decode())\n\ntry:\n    # run user code\n    __backend_agg_user_code_fn()\n\n    #reset display function\n    display = __backend_agg_display_orig\n\n    if len(__backend_agg_dfs) > 0:\n        # create a temp view\n        if type(__backend_agg_dfs[0]).__module__ == \"databricks.koalas.frame\":\n            # koalas dataframe\n            __backend_agg_dfs[0].to_spark().createOrReplaceTempView(\"DatabricksView67f577d\")\n        elif type(__backend_agg_dfs[0]).__module__ == \"pandas.core.frame\" or isinstance(__backend_agg_dfs[0], list):\n            # pandas dataframe\n            spark.createDataFrame(__backend_agg_dfs[0]).createOrReplaceTempView(\"DatabricksView67f577d\")\n        else:\n            __backend_agg_dfs[0].createOrReplaceTempView(\"DatabricksView67f577d\")\n        #run backend agg\n        display(spark.sql(\"\"\"WITH q AS (select * from DatabricksView67f577d) SELECT `booking_hour`,`total_bookings` FROM q\"\"\"))\n    else:\n        displayHTML(\"dataframe no longer exists. If you're using dataframe.display(), use display(dataframe) instead.\")\n\n\nfinally:\n    spark.sql(\"drop view if exists DatabricksView67f577d\")\n    display = __backend_agg_display_orig\n    del __backend_agg_display_new\n    del __backend_agg_display_orig\n    del __backend_agg_dfs\n    del __backend_agg_user_code_fn\n\n",
       "commandTitle": "Visualization 1",
       "commandType": "auto",
       "commandVersion": 0,
       "commentThread": [],
       "commentsVisible": false,
       "contentSha256Hex": null,
       "customPlotOptions": {
        "redashChart": [
         {
          "key": "type",
          "value": "CHART"
         },
         {
          "key": "options",
          "value": {
           "alignYAxesAtZero": true,
           "coefficient": 1,
           "columnConfigurationMap": {
            "x": {
             "column": "booking_hour",
             "id": "column_60acc314115"
            },
            "y": [
             {
              "column": "total_bookings",
              "id": "column_60acc314116"
             }
            ]
           },
           "dateTimeFormat": "DD/MM/YYYY HH:mm",
           "direction": {
            "type": "counterclockwise"
           },
           "error_y": {
            "type": "data",
            "visible": true
           },
           "globalSeriesType": "scatter",
           "legend": {
            "traceorder": "normal"
           },
           "missingValuesAsZero": true,
           "numberFormat": "0,0.[00000]",
           "percentFormat": "0[.]00%",
           "series": {
            "error_y": {
             "type": "data",
             "visible": true
            },
            "stacking": null
           },
           "seriesOptions": {
            "column_60acc314116": {
             "name": "total_bookings",
             "type": "scatter",
             "yAxis": 0
            },
            "total_bookings": {
             "name": "total_bookings",
             "type": "scatter",
             "yAxis": 0
            }
           },
           "showDataLabels": false,
           "sizemode": "diameter",
           "sortX": true,
           "sortY": true,
           "swappedAxes": false,
           "textFormat": "",
           "useAggregationsUi": true,
           "valuesOptions": {},
           "version": 2,
           "xAxis": {
            "labels": {
             "enabled": true
            },
            "type": "-"
           },
           "yAxis": [
            {
             "type": "-"
            },
            {
             "opposite": true,
             "type": "-"
            }
           ]
          }
         }
        ]
       },
       "datasetPreviewNameToCmdIdMap": {},
       "diffDeletes": [],
       "diffInserts": [],
       "displayType": "redashChart",
       "error": null,
       "errorDetails": null,
       "errorSummary": null,
       "errorTraceType": null,
       "finishTime": 0,
       "globalVars": {},
       "guid": "",
       "height": "auto",
       "hideCommandCode": false,
       "hideCommandResult": false,
       "iPythonMetadata": null,
       "inputWidgets": {},
       "isLockedInExamMode": false,
       "latestAssumeRoleInfo": null,
       "latestUser": "a user",
       "latestUserId": null,
       "listResultMetadata": null,
       "metadata": {},
       "nuid": "d06ae2f1-e551-45f7-9e4b-0192a07eb6c4",
       "origId": 0,
       "parentHierarchy": [],
       "pivotAggregation": null,
       "pivotColumns": null,
       "position": 6.0,
       "resultDbfsErrorMessage": null,
       "resultDbfsStatus": "INLINED_IN_TREE",
       "results": null,
       "showCommandTitle": false,
       "startTime": 0,
       "state": "input",
       "streamStates": {},
       "subcommandOptions": {
        "queryPlan": {
         "selects": [
          {
           "column": "booking_hour",
           "type": "column"
          },
          {
           "column": "total_bookings",
           "type": "column"
          }
         ]
        }
       },
       "submitTime": 0,
       "subtype": "tableResultSubCmd.visualization",
       "tableResultIndex": 0,
       "tableResultSettingsMap": {},
       "useConsistentColors": false,
       "version": "CommandV1",
       "width": "auto",
       "workflows": [],
       "xColumns": null,
       "yColumns": null
      }
     },
     "output_type": "display_data"
    }
   ],
   "source": [
    "#Peak booking hours\n",
    "from pyspark.sql.functions import to_timestamp, hour, count\n",
    "\n",
    "df2 = df.withColumn(\n",
    "  \"booking_hour\", \n",
    "  hour(to_timestamp(\"appointment_time\", \"HH:mm\"))\n",
    ")\n",
    "\n",
    "result_df = df2.groupBy(\"booking_hour\").agg(\n",
    "  count(\"*\").alias(\"total_bookings\")\n",
    ").orderBy(\"total_bookings\", ascending=False)\n",
    "\n",
    "display(result_df)\n",
    "\n"
   ]
  },
  {
   "cell_type": "code",
   "execution_count": 0,
   "metadata": {
    "application/vnd.databricks.v1+cell": {
     "cellMetadata": {
      "byteLimit": 2048000,
      "rowLimit": 10000
     },
     "inputWidgets": {},
     "nuid": "3298805d-736c-41c8-9dc3-b6ef6eb1efb3",
     "showTitle": false,
     "tableResultSettingsMap": {},
     "title": ""
    }
   },
   "outputs": [
    {
     "output_type": "display_data",
     "data": {
      "text/html": [
       "<style scoped>\n",
       "  .table-result-container {\n",
       "    max-height: 300px;\n",
       "    overflow: auto;\n",
       "  }\n",
       "  table, th, td {\n",
       "    border: 1px solid black;\n",
       "    border-collapse: collapse;\n",
       "  }\n",
       "  th, td {\n",
       "    padding: 5px;\n",
       "  }\n",
       "  th {\n",
       "    text-align: left;\n",
       "  }\n",
       "</style><div class='table-result-container'><table class='table-result'><thead style='background-color: white'><tr><th>service_name</th><th>count</th></tr></thead><tbody><tr><td>Pedicure</td><td>21</td></tr><tr><td>Hair Coloring</td><td>21</td></tr><tr><td>Facial</td><td>8</td></tr><tr><td>Manicure</td><td>19</td></tr><tr><td>Haircut</td><td>13</td></tr><tr><td>Massage</td><td>18</td></tr></tbody></table></div>"
      ]
     },
     "metadata": {
      "application/vnd.databricks.v1+output": {
       "addedWidgets": {},
       "aggData": [],
       "aggError": "",
       "aggOverflow": false,
       "aggSchema": [],
       "aggSeriesLimitReached": false,
       "aggType": "",
       "arguments": {},
       "columnCustomDisplayInfos": {},
       "data": [
        [
         "Pedicure",
         21
        ],
        [
         "Hair Coloring",
         21
        ],
        [
         "Facial",
         8
        ],
        [
         "Manicure",
         19
        ],
        [
         "Haircut",
         13
        ],
        [
         "Massage",
         18
        ]
       ],
       "datasetInfos": [],
       "dbfsResultPath": null,
       "isJsonSchema": true,
       "metadata": {},
       "overflow": false,
       "plotOptions": {
        "customPlotOptions": {},
        "displayType": "table",
        "pivotAggregation": null,
        "pivotColumns": null,
        "xColumns": null,
        "yColumns": null
       },
       "removedWidgets": [],
       "schema": [
        {
         "metadata": "{}",
         "name": "service_name",
         "type": "\"string\""
        },
        {
         "metadata": "{}",
         "name": "count",
         "type": "\"long\""
        }
       ],
       "type": "table"
      }
     },
     "output_type": "display_data"
    },
    {
     "output_type": "display_data",
     "data": {
      "text/plain": [
       "Databricks visualization. Run in Databricks to view."
      ]
     },
     "metadata": {
      "application/vnd.databricks.v1.subcommand+json": {
       "baseErrorDetails": null,
       "bindings": {},
       "collapsed": false,
       "command": "%python\n__backend_agg_display_orig = display\n__backend_agg_dfs = []\ndef __backend_agg_display_new(df):\n    __backend_agg_df_modules = [\"pandas.core.frame\", \"databricks.koalas.frame\", \"pyspark.sql.dataframe\", \"pyspark.pandas.frame\", \"pyspark.sql.connect.dataframe\"]\n    if (type(df).__module__ in __backend_agg_df_modules and type(df).__name__ == 'DataFrame') or isinstance(df, list):\n        __backend_agg_dfs.append(df)\n\ndisplay = __backend_agg_display_new\n\ndef __backend_agg_user_code_fn():\n    import base64\n    exec(base64.standard_b64decode(\"ZGlzcGxheShkZi5ncm91cEJ5KCJzZXJ2aWNlX25hbWUiKS5jb3VudCgpKQo=\").decode())\n\ntry:\n    # run user code\n    __backend_agg_user_code_fn()\n\n    #reset display function\n    display = __backend_agg_display_orig\n\n    if len(__backend_agg_dfs) > 0:\n        # create a temp view\n        if type(__backend_agg_dfs[0]).__module__ == \"databricks.koalas.frame\":\n            # koalas dataframe\n            __backend_agg_dfs[0].to_spark().createOrReplaceTempView(\"DatabricksView0b326cd\")\n        elif type(__backend_agg_dfs[0]).__module__ == \"pandas.core.frame\" or isinstance(__backend_agg_dfs[0], list):\n            # pandas dataframe\n            spark.createDataFrame(__backend_agg_dfs[0]).createOrReplaceTempView(\"DatabricksView0b326cd\")\n        else:\n            __backend_agg_dfs[0].createOrReplaceTempView(\"DatabricksView0b326cd\")\n        #run backend agg\n        display(spark.sql(\"\"\"WITH q AS (select * from DatabricksView0b326cd) SELECT `service_name`,SUM(`count`) `column_60acc31491` FROM q GROUP BY `service_name`\"\"\"))\n    else:\n        displayHTML(\"dataframe no longer exists. If you're using dataframe.display(), use display(dataframe) instead.\")\n\n\nfinally:\n    spark.sql(\"drop view if exists DatabricksView0b326cd\")\n    display = __backend_agg_display_orig\n    del __backend_agg_display_new\n    del __backend_agg_display_orig\n    del __backend_agg_dfs\n    del __backend_agg_user_code_fn\n\n",
       "commandTitle": "Visualization 1",
       "commandType": "auto",
       "commandVersion": 0,
       "commentThread": [],
       "commentsVisible": false,
       "contentSha256Hex": null,
       "customPlotOptions": {
        "redashChart": [
         {
          "key": "type",
          "value": "CHART"
         },
         {
          "key": "options",
          "value": {
           "alignYAxesAtZero": true,
           "coefficient": 1,
           "columnConfigurationMap": {
            "x": {
             "column": "service_name",
             "id": "column_60acc31490"
            },
            "y": [
             {
              "column": "count",
              "id": "column_60acc31491",
              "transform": "SUM"
             }
            ]
           },
           "dateTimeFormat": "DD/MM/YYYY HH:mm",
           "direction": {
            "type": "counterclockwise"
           },
           "error_y": {
            "type": "data",
            "visible": true
           },
           "globalSeriesType": "column",
           "legend": {
            "traceorder": "normal"
           },
           "missingValuesAsZero": true,
           "numberFormat": "0,0.[00000]",
           "percentFormat": "0[.]00%",
           "series": {
            "error_y": {
             "type": "data",
             "visible": true
            },
            "stacking": null
           },
           "seriesOptions": {
            "column_60acc31491": {
             "name": "count",
             "yAxis": 0
            }
           },
           "showDataLabels": false,
           "sizemode": "diameter",
           "sortX": true,
           "sortY": true,
           "swappedAxes": true,
           "textFormat": "",
           "useAggregationsUi": true,
           "valuesOptions": {},
           "version": 2,
           "xAxis": {
            "labels": {
             "enabled": true
            },
            "type": "-"
           },
           "yAxis": [
            {
             "type": "-"
            },
            {
             "opposite": true,
             "type": "-"
            }
           ]
          }
         }
        ]
       },
       "datasetPreviewNameToCmdIdMap": {},
       "diffDeletes": [],
       "diffInserts": [],
       "displayType": "redashChart",
       "error": null,
       "errorDetails": null,
       "errorSummary": null,
       "errorTraceType": null,
       "finishTime": 0,
       "globalVars": {},
       "guid": "",
       "height": "auto",
       "hideCommandCode": false,
       "hideCommandResult": false,
       "iPythonMetadata": null,
       "inputWidgets": {},
       "isLockedInExamMode": false,
       "latestAssumeRoleInfo": null,
       "latestUser": "a user",
       "latestUserId": null,
       "listResultMetadata": null,
       "metadata": {},
       "nuid": "548fad89-3802-42de-b75f-6f49ba794eac",
       "origId": 0,
       "parentHierarchy": [],
       "pivotAggregation": null,
       "pivotColumns": null,
       "position": 7.0,
       "resultDbfsErrorMessage": null,
       "resultDbfsStatus": "INLINED_IN_TREE",
       "results": null,
       "showCommandTitle": false,
       "startTime": 0,
       "state": "input",
       "streamStates": {},
       "subcommandOptions": {
        "queryPlan": {
         "groups": [
          {
           "column": "service_name",
           "type": "column"
          }
         ],
         "selects": [
          {
           "column": "service_name",
           "type": "column"
          },
          {
           "alias": "column_60acc31491",
           "args": [
            {
             "column": "count",
             "type": "column"
            }
           ],
           "function": "SUM",
           "type": "function"
          }
         ]
        }
       },
       "submitTime": 0,
       "subtype": "tableResultSubCmd.visualization",
       "tableResultIndex": 0,
       "tableResultSettingsMap": {},
       "useConsistentColors": false,
       "version": "CommandV1",
       "width": "auto",
       "workflows": [],
       "xColumns": null,
       "yColumns": null
      }
     },
     "output_type": "display_data"
    }
   ],
   "source": [
    "display(df.groupBy(\"service_name\").count())\n"
   ]
  }
 ],
 "metadata": {
  "application/vnd.databricks.v1+notebook": {
   "computePreferences": null,
   "dashboards": [
    {
     "elements": [
      {
       "dashboardResultIndex": 0,
       "elementNUID": "94071e6b-d522-4bb9-b8f9-df9a10d1a4ae",
       "elementType": "command",
       "guid": "0d3c92b3-74c7-4163-8eea-ffb04c874d26",
       "options": null,
       "position": {
        "height": 6,
        "width": 12,
        "x": 0,
        "y": 0,
        "z": null
       },
       "resultIndex": null
      },
      {
       "dashboardResultIndex": null,
       "elementNUID": "54696384-9849-49b2-a4f6-fa3e6cd89e7d",
       "elementType": "command",
       "guid": "10f6e96c-f05a-4d0f-9b00-45eff2620473",
       "options": null,
       "position": {
        "height": 6,
        "width": 12,
        "x": 0,
        "y": 6,
        "z": null
       },
       "resultIndex": null
      },
      {
       "dashboardResultIndex": 0,
       "elementNUID": "3e103ffb-1d6f-4837-992b-e49c3b6f10a5",
       "elementType": "command",
       "guid": "3cf79ba7-862b-4665-a406-97c674f4b533",
       "options": null,
       "position": {
        "height": 6,
        "width": 12,
        "x": 0,
        "y": 12,
        "z": null
       },
       "resultIndex": null
      },
      {
       "dashboardResultIndex": null,
       "elementNUID": "d06ae2f1-e551-45f7-9e4b-0192a07eb6c4",
       "elementType": "command",
       "guid": "58ed0e5a-1954-4206-beeb-7c99307bc971",
       "options": null,
       "position": {
        "height": 6,
        "width": 12,
        "x": 0,
        "y": 18,
        "z": null
       },
       "resultIndex": null
      },
      {
       "dashboardResultIndex": 0,
       "elementNUID": "822d6dbd-3f1f-462d-964e-db4d0d331d5b",
       "elementType": "command",
       "guid": "911018f9-fd03-4c02-a5ce-c7c65bd7b1df",
       "options": null,
       "position": {
        "height": 6,
        "width": 12,
        "x": 0,
        "y": 24,
        "z": null
       },
       "resultIndex": null
      },
      {
       "dashboardResultIndex": null,
       "elementNUID": "22d38c3f-2b7c-423a-8f9a-c78bd990020e",
       "elementType": "command",
       "guid": "b419c927-737d-4fca-975c-049bad032500",
       "options": null,
       "position": {
        "height": 6,
        "width": 12,
        "x": 0,
        "y": 30,
        "z": null
       },
       "resultIndex": null
      },
      {
       "dashboardResultIndex": null,
       "elementNUID": "89764156-2e06-4406-b394-aea1906647ce",
       "elementType": "command",
       "guid": "b5867d3e-7d81-4228-a43d-eaf9532854ad",
       "options": null,
       "position": {
        "height": 6,
        "width": 12,
        "x": 0,
        "y": 36,
        "z": null
       },
       "resultIndex": null
      },
      {
       "dashboardResultIndex": 0,
       "elementNUID": "3298805d-736c-41c8-9dc3-b6ef6eb1efb3",
       "elementType": "command",
       "guid": "bcc32982-0dd9-4e3b-8e67-6870ae129b12",
       "options": null,
       "position": {
        "height": 6,
        "width": 12,
        "x": 0,
        "y": 42,
        "z": null
       },
       "resultIndex": null
      },
      {
       "dashboardResultIndex": 0,
       "elementNUID": "8ab2f19b-f147-465d-a5db-7a5f18ff2828",
       "elementType": "command",
       "guid": "d3f4128c-49e7-4254-a4fc-fc2c268d177f",
       "options": null,
       "position": {
        "height": 6,
        "width": 12,
        "x": 0,
        "y": 48,
        "z": null
       },
       "resultIndex": null
      },
      {
       "dashboardResultIndex": 0,
       "elementNUID": "a7a8dc21-0c9e-4127-b8a3-df4927eab0ea",
       "elementType": "command",
       "guid": "dbbaf304-e642-4b04-80fb-2c46a5a165f8",
       "options": null,
       "position": {
        "height": 6,
        "width": 12,
        "x": 0,
        "y": 54,
        "z": null
       },
       "resultIndex": null
      },
      {
       "dashboardResultIndex": null,
       "elementNUID": "548fad89-3802-42de-b75f-6f49ba794eac",
       "elementType": "command",
       "guid": "fef6e7c0-f96a-4887-9aad-4a8815389bcc",
       "options": null,
       "position": {
        "height": 6,
        "width": 12,
        "x": 0,
        "y": 60,
        "z": null
       },
       "resultIndex": null
      }
     ],
     "globalVars": {},
     "guid": "",
     "layoutOption": {
      "grid": true,
      "stack": true
     },
     "nuid": "c59648b5-d474-4c62-8e9f-9aded57ec377",
     "origId": 8051283677585332,
     "title": "Salon & Spa",
     "version": "DashboardViewV1",
     "width": 1024
    }
   ],
   "environmentMetadata": {
    "base_environment": "",
    "environment_version": "3"
   },
   "inputWidgetPreferences": null,
   "language": "python",
   "notebookMetadata": {
    "mostRecentlyExecutedCommandWithImplicitDF": {
     "commandId": -1,
     "dataframes": [
      "_sqldf"
     ]
    },
    "pythonIndentUnit": 4
   },
   "notebookName": "Salon & Spa",
   "widgets": {}
  },
  "language_info": {
   "name": "python"
  }
 },
 "nbformat": 4,
 "nbformat_minor": 0
}